{
 "cells": [
  {
   "cell_type": "markdown",
   "id": "a37d7136",
   "metadata": {},
   "source": [
    "### 2025-06-16 23:33\n",
    "1. (o) spark_encode.py : 검증 완료 -> int8을 spark로 encoding(str)\n",
    "2. (o) spark_decode.py : 검증 완료 -> spark encoding(str)을 decoding(decimal)\n",
    "3. ( ) BERT-Base 사전 학습 모델 로딩\n",
    "4. ( ) Weight tensor 추출 및 int8 quantization 적용\n",
    "5. ( ) 각 weight를 spark_encode -> spark_decode 순서로 변환\n",
    "6. ( ) decoding된 값을 다시 float로 복원 후 모델 적용\n",
    "7. ( ) GLUE-SST-2 Dataset에서 평가 진행\n",
    "\n",
    "-model : BERT-Base - 분류 task 용이 \\\n",
    "-dataset : GLUE의 SST-2 - movie reviews & human annotations of sentiment\\\n",
    "> task : predict sentiment of a given sentence (positive/negeative)\n",
    "\n",
    "-Baseline : BERT-Base FP32 \\\n",
    "-Target : BERT-Base SPARK (After INT8) \\\n",
    "-조작변인 : data type (INT8 vs SPARK) * SPARK : int8 -> encoding(4/8) -> decoding \\\n",
    "-통제변인 : pre-trained model"
   ]
  },
  {
   "cell_type": "code",
   "execution_count": null,
   "id": "3b712dd8",
   "metadata": {},
   "outputs": [],
   "source": [
    "# Trasnformers library 설치\n",
    "! pip install transformers"
   ]
  },
  {
   "cell_type": "code",
   "execution_count": 7,
   "id": "e46ddd33",
   "metadata": {},
   "outputs": [
    {
     "ename": "ImportError",
     "evalue": "\nBertForSequenceClassification requires the PyTorch library but it was not found in your environment. Checkout the instructions on the\ninstallation page: https://pytorch.org/get-started/locally/ and follow the ones that match your environment.\nPlease note that you may need to restart your runtime after installation.\n",
     "output_type": "error",
     "traceback": [
      "\u001b[0;31m---------------------------------------------------------------------------\u001b[0m",
      "\u001b[0;31mImportError\u001b[0m                               Traceback (most recent call last)",
      "Cell \u001b[0;32mIn[7], line 2\u001b[0m\n\u001b[1;32m      1\u001b[0m \u001b[38;5;28;01mfrom\u001b[39;00m\u001b[38;5;250m \u001b[39m\u001b[38;5;21;01mtransformers\u001b[39;00m\u001b[38;5;250m \u001b[39m\u001b[38;5;28;01mimport\u001b[39;00m BertForSequenceClassification, BertTokenizer\n\u001b[0;32m----> 2\u001b[0m model \u001b[38;5;241m=\u001b[39m \u001b[43mBertForSequenceClassification\u001b[49m\u001b[38;5;241;43m.\u001b[39;49m\u001b[43mfrom_pretrained\u001b[49m(\u001b[38;5;124m\"\u001b[39m\u001b[38;5;124mbert-base-uncased\u001b[39m\u001b[38;5;124m\"\u001b[39m)\n\u001b[1;32m      3\u001b[0m tokenizer \u001b[38;5;241m=\u001b[39m BertTokenizer\u001b[38;5;241m.\u001b[39mfrom_pretrained(\u001b[38;5;124m\"\u001b[39m\u001b[38;5;124mbert-base-uncased\u001b[39m\u001b[38;5;124m\"\u001b[39m)\n",
      "File \u001b[0;32m~/miniconda3/envs/spark_bert/lib/python3.10/site-packages/transformers/utils/import_utils.py:1885\u001b[0m, in \u001b[0;36mDummyObject.__getattribute__\u001b[0;34m(cls, key)\u001b[0m\n\u001b[1;32m   1883\u001b[0m \u001b[38;5;28;01mif\u001b[39;00m (key\u001b[38;5;241m.\u001b[39mstartswith(\u001b[38;5;124m\"\u001b[39m\u001b[38;5;124m_\u001b[39m\u001b[38;5;124m\"\u001b[39m) \u001b[38;5;129;01mand\u001b[39;00m key \u001b[38;5;241m!=\u001b[39m \u001b[38;5;124m\"\u001b[39m\u001b[38;5;124m_from_config\u001b[39m\u001b[38;5;124m\"\u001b[39m) \u001b[38;5;129;01mor\u001b[39;00m key \u001b[38;5;241m==\u001b[39m \u001b[38;5;124m\"\u001b[39m\u001b[38;5;124mis_dummy\u001b[39m\u001b[38;5;124m\"\u001b[39m \u001b[38;5;129;01mor\u001b[39;00m key \u001b[38;5;241m==\u001b[39m \u001b[38;5;124m\"\u001b[39m\u001b[38;5;124mmro\u001b[39m\u001b[38;5;124m\"\u001b[39m \u001b[38;5;129;01mor\u001b[39;00m key \u001b[38;5;241m==\u001b[39m \u001b[38;5;124m\"\u001b[39m\u001b[38;5;124mcall\u001b[39m\u001b[38;5;124m\"\u001b[39m:\n\u001b[1;32m   1884\u001b[0m     \u001b[38;5;28;01mreturn\u001b[39;00m \u001b[38;5;28msuper\u001b[39m()\u001b[38;5;241m.\u001b[39m\u001b[38;5;21m__getattribute__\u001b[39m(key)\n\u001b[0;32m-> 1885\u001b[0m \u001b[43mrequires_backends\u001b[49m\u001b[43m(\u001b[49m\u001b[38;5;28;43mcls\u001b[39;49m\u001b[43m,\u001b[49m\u001b[43m \u001b[49m\u001b[38;5;28;43mcls\u001b[39;49m\u001b[38;5;241;43m.\u001b[39;49m\u001b[43m_backends\u001b[49m\u001b[43m)\u001b[49m\n",
      "File \u001b[0;32m~/miniconda3/envs/spark_bert/lib/python3.10/site-packages/transformers/utils/import_utils.py:1871\u001b[0m, in \u001b[0;36mrequires_backends\u001b[0;34m(obj, backends)\u001b[0m\n\u001b[1;32m   1868\u001b[0m         failed\u001b[38;5;241m.\u001b[39mappend(msg\u001b[38;5;241m.\u001b[39mformat(name))\n\u001b[1;32m   1870\u001b[0m \u001b[38;5;28;01mif\u001b[39;00m failed:\n\u001b[0;32m-> 1871\u001b[0m     \u001b[38;5;28;01mraise\u001b[39;00m \u001b[38;5;167;01mImportError\u001b[39;00m(\u001b[38;5;124m\"\u001b[39m\u001b[38;5;124m\"\u001b[39m\u001b[38;5;241m.\u001b[39mjoin(failed))\n",
      "\u001b[0;31mImportError\u001b[0m: \nBertForSequenceClassification requires the PyTorch library but it was not found in your environment. Checkout the instructions on the\ninstallation page: https://pytorch.org/get-started/locally/ and follow the ones that match your environment.\nPlease note that you may need to restart your runtime after installation.\n"
     ]
    }
   ],
   "source": [
    "from transformers import BertForSequenceClassification, BertTokenizer\n",
    "model = BertForSequenceClassification.from_pretrained(\"bert-base-uncased\")\n",
    "tokenizer = BertTokenizer.from_pretrained(\"bert-base-uncased\")"
   ]
  },
  {
   "cell_type": "code",
   "execution_count": null,
   "id": "cd86bbae",
   "metadata": {},
   "outputs": [],
   "source": [
    "import torch\n",
    "\n",
    "scale_map = {}  # 레이어별 scale 저장 (복원용)\n",
    "\n",
    "for name, param in model.named_parameters():\n",
    "    if \"weight\" in name and param.requires_grad:\n",
    "        # 1. float → INT8\n",
    "        max_val = param.data.abs().max()\n",
    "        scale = 127 / max_val\n",
    "        scale_map[name] = scale\n",
    "        int8_tensor = torch.round(param.data * scale).clamp(-128, 127).to(torch.int8)\n",
    "\n",
    "        # 2. SPARK 인코딩 + 디코딩\n",
    "        decoded_vals = []\n",
    "        for v in int8_tensor.view(-1):\n",
    "            unsigned_val = abs(int(v))\n",
    "            encoded, _, _ = spark_encode(unsigned_val)\n",
    "            decoded = spark_decode(encoded)\n",
    "            restored = decoded / scale  # 다시 float로 복원\n",
    "            restored *= -1 if v < 0 else 1\n",
    "            decoded_vals.append(restored)\n",
    "\n",
    "        decoded_tensor = torch.tensor(decoded_vals).reshape(param.shape)\n",
    "        param.data = decoded_tensor.float()\n"
   ]
  },
  {
   "cell_type": "code",
   "execution_count": null,
   "id": "57e63b17",
   "metadata": {},
   "outputs": [],
   "source": [
    "from datasets import load_dataset\n",
    "from transformers import TrainingArguments, Trainer\n",
    "from sklearn.metrics import accuracy_score\n",
    "\n",
    "# 데이터셋 로드\n",
    "dataset = load_dataset(\"glue\", \"sst2\")\n",
    "def preprocess(example):\n",
    "    return tokenizer(example[\"sentence\"], truncation=True, padding=\"max_length\", max_length=128)\n",
    "\n",
    "encoded_dataset = dataset.map(preprocess, batched=True)\n",
    "encoded_dataset.set_format(type=\"torch\", columns=[\"input_ids\", \"attention_mask\", \"label\"])\n",
    "\n",
    "# 정확도 metric\n",
    "def compute_metrics(p):\n",
    "    preds = p.predictions.argmax(axis=-1)\n",
    "    return {\"accuracy\": accuracy_score(p.label_ids, preds)}\n",
    "\n",
    "# Trainer 설정\n",
    "training_args = TrainingArguments(output_dir=\"./spark_eval\", per_device_eval_batch_size=64)\n",
    "trainer = Trainer(model=model, args=training_args, compute_metrics=compute_metrics)\n",
    "\n",
    "# 평가 실행\n",
    "eval_result = trainer.evaluate(eval_dataset=encoded_dataset[\"validation\"])\n",
    "print(f\"\\n✅ SPARK 디코딩 후 정확도: {eval_result['eval_accuracy']:.4f}\")\n"
   ]
  }
 ],
 "metadata": {
  "kernelspec": {
   "display_name": "spark_bert",
   "language": "python",
   "name": "python3"
  },
  "language_info": {
   "codemirror_mode": {
    "name": "ipython",
    "version": 3
   },
   "file_extension": ".py",
   "mimetype": "text/x-python",
   "name": "python",
   "nbconvert_exporter": "python",
   "pygments_lexer": "ipython3",
   "version": "3.10.18"
  }
 },
 "nbformat": 4,
 "nbformat_minor": 5
}
